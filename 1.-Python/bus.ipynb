{
 "cells": [
  {
   "cell_type": "markdown",
   "metadata": {},
   "source": [
    "<img src=\"https://bit.ly/2VnXWr2\" width=\"100\" align=\"left\">"
   ]
  },
  {
   "cell_type": "markdown",
   "metadata": {},
   "source": [
    "# Bus\n",
    "\n",
    "This bus has a passenger entry and exit control system to monitor the number of occupants it carries and thus detect when there are too many.\n",
    "\n",
    "At each stop, the entry and exit of passengers is represented by a tuple consisting of two integer numbers.\n",
    "```\n",
    "bus_stop = (in, out)\n",
    "```\n",
    "The succession of stops is represented by a list of these tuples.\n",
    "```\n",
    "stops = [(in1, out1), (in2, out2), (in3, out3), (in4, out4)]\n",
    "```\n",
    "\n",
    "## Tools\n",
    "You don't necessarily need to use all the tools. Maybe you opt to use some of them or completely different ones, they are given to help you shape the exercise. Programming exercises can be solved in many different ways.\n",
    "* Data structures: **lists, tuples**\n",
    "* Loop: **while/for loops**\n",
    "* Functions: **min, max, len**\n",
    "\n",
    "## Tasks"
   ]
  },
  {
   "cell_type": "code",
   "execution_count": 1,
   "metadata": {},
   "outputs": [],
   "source": [
    "# Variables\n",
    "stops = [(10, 0), (4, 1), (3, 5), (3, 4), (5, 1), (1, 5), (5, 8), (4, 6), (2, 3)]"
   ]
  },
  {
   "cell_type": "markdown",
   "metadata": {},
   "source": [
    "#### 1. Calculate the number of stops."
   ]
  },
  {
   "cell_type": "code",
   "execution_count": 2,
   "metadata": {},
   "outputs": [
    {
     "data": {
      "text/plain": [
       "9"
      ]
     },
     "execution_count": 2,
     "metadata": {},
     "output_type": "execute_result"
    }
   ],
   "source": [
    "len(stops)"
   ]
  },
  {
   "cell_type": "markdown",
   "metadata": {},
   "source": [
    "#### 2. Assign to a variable a list whose elements are the number of passengers at each stop (in-out).\n",
    "Each item depends on the previous item in the list + in - out."
   ]
  },
  {
   "cell_type": "code",
   "execution_count": 4,
   "metadata": {},
   "outputs": [
    {
     "name": "stdout",
     "output_type": "stream",
     "text": [
      "For the 1 stop, 10 passengers entered and 0 passengers left the bus\n",
      "For the 2 stop, 4 passengers entered and 1 passengers left the bus\n",
      "For the 3 stop, 3 passengers entered and 5 passengers left the bus\n",
      "For the 4 stop, 3 passengers entered and 4 passengers left the bus\n",
      "For the 5 stop, 5 passengers entered and 1 passengers left the bus\n",
      "For the 6 stop, 1 passengers entered and 5 passengers left the bus\n",
      "For the 7 stop, 5 passengers entered and 8 passengers left the bus\n",
      "For the 8 stop, 4 passengers entered and 6 passengers left the bus\n",
      "For the 9 stop, 2 passengers entered and 3 passengers left the bus\n"
     ]
    }
   ],
   "source": [
    "stops = [(10, 0), (4, 1), (3, 5), (3, 4), (5, 1), (1, 5), (5, 8), (4, 6), (2, 3)]\n",
    "number_of_stops = len(stops)\n",
    "\n",
    "#i is each stop\n",
    "i = 1\n",
    "\n",
    "while i < number_of_stops :\n",
    "    for stop in stops:\n",
    "        l = list(stop)\n",
    "        in_i = l[0]\n",
    "        out_i = l[1]\n",
    "        print(\"For the {0} stop, {1} passengers entered and {2} passengers left the bus\".format(i, in_i, out_i) )\n",
    "        i += 1\n"
   ]
  },
  {
   "cell_type": "markdown",
   "metadata": {},
   "source": [
    "#### 3. Find the maximum occupation of the bus."
   ]
  },
  {
   "cell_type": "code",
   "execution_count": 5,
   "metadata": {},
   "outputs": [
    {
     "name": "stdout",
     "output_type": "stream",
     "text": [
      "The maximum occupation of the bus is 14\n"
     ]
    }
   ],
   "source": [
    "occupation = 0\n",
    "\n",
    "stops = [(10, 0), (4, 1), (3, 5), (3, 4), (5, 1), (1, 5), (5, 8), (4, 6), (2, 3)]\n",
    "number_of_stops = len(stops)\n",
    "\n",
    "MaxOccupation = 0\n",
    "\n",
    "#i is each stop\n",
    "i = 1\n",
    "\n",
    "while i < number_of_stops:\n",
    "    \n",
    "    for stop in stops:\n",
    "        lst = list(stop)\n",
    "        In = lst[0]\n",
    "        Out = lst[1]\n",
    "        occupation = occupation + In - Out\n",
    "        i = i + 1\n",
    "        #print(occupation)\n",
    "\n",
    "        if MaxOccupation < occupation:\n",
    "            MaxOccupation = occupation\n",
    "\n",
    "#print(MaxOccupation)\n",
    "print(\"The maximum occupation of the bus is\", MaxOccupation)"
   ]
  },
  {
   "cell_type": "markdown",
   "metadata": {},
   "source": [
    "#### 4. Calculate the average occupation. And the standard deviation."
   ]
  },
  {
   "cell_type": "code",
   "execution_count": 21,
   "metadata": {},
   "outputs": [
    {
     "name": "stdout",
     "output_type": "stream",
     "text": [
      "The average of occupation is 9.333333333333334\n"
     ]
    }
   ],
   "source": [
    "occupation = 0\n",
    "\n",
    "stops = [(10, 0), (4, 1), (3, 5), (3, 4), (5, 1), (1, 5), (5, 8), (4, 6), (2, 3)]\n",
    "number_of_stops = len(stops)\n",
    "\n",
    "SumOccupation = 0\n",
    "\n",
    "#i is each stop\n",
    "i = 1\n",
    "\n",
    "while i < number_of_stops:\n",
    "    \n",
    "    for stop in stops:\n",
    "        lst = list(stop)\n",
    "        In = lst[0]\n",
    "        Out = lst[1]\n",
    "        occupation = occupation + In - Out\n",
    "        i = i + 1\n",
    "        SumOccupation = SumOccupation + occupation\n",
    "\n",
    "\n",
    "#print(SumOccupation)\n",
    "#print(\"The total occupation of the bus is\", TotalOccupation)\n",
    "\n",
    "average = SumOccupation / number_of_stops\n",
    "print(\"The average of occupation is\", average)"
   ]
  },
  {
   "cell_type": "code",
   "execution_count": 22,
   "metadata": {},
   "outputs": [
    {
     "name": "stdout",
     "output_type": "stream",
     "text": [
      "The standard deviation is 10.222222222222221\n"
     ]
    }
   ],
   "source": [
    "#For the standard deviation\n",
    "occupation = 0\n",
    "\n",
    "stops = [(10, 0), (4, 1), (3, 5), (3, 4), (5, 1), (1, 5), (5, 8), (4, 6), (2, 3)]\n",
    "number_of_stops = len(stops)\n",
    "\n",
    "SumOfAbove = 0\n",
    "\n",
    "#i is each stop\n",
    "i = 1\n",
    "\n",
    "while i < number_of_stops:\n",
    "    \n",
    "    for stop in stops:\n",
    "        lst = list(stop)\n",
    "        In = lst[0]\n",
    "        Out = lst[1]\n",
    "        occupation = occupation + In - Out\n",
    "        i = i + 1\n",
    "        SumOfAbove = SumOfAbove + ((occupation - average) ** 2)\n",
    "\n",
    "Std = SumOfAbove / number_of_stops\n",
    "print(\"The standard deviation is\", Std)"
   ]
  },
  {
   "cell_type": "code",
   "execution_count": null,
   "metadata": {},
   "outputs": [],
   "source": []
  }
 ],
 "metadata": {
  "kernelspec": {
   "display_name": "Python 3 (ipykernel)",
   "language": "python",
   "name": "python3"
  },
  "language_info": {
   "codemirror_mode": {
    "name": "ipython",
    "version": 3
   },
   "file_extension": ".py",
   "mimetype": "text/x-python",
   "name": "python",
   "nbconvert_exporter": "python",
   "pygments_lexer": "ipython3",
   "version": "3.9.6"
  }
 },
 "nbformat": 4,
 "nbformat_minor": 2
}
