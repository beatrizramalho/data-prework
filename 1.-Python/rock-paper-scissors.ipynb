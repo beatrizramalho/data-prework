{
 "cells": [
  {
   "cell_type": "markdown",
   "metadata": {},
   "source": [
    "<img src=\"https://bit.ly/2VnXWr2\" width=\"100\" align=\"left\">"
   ]
  },
  {
   "cell_type": "markdown",
   "metadata": {},
   "source": [
    "# Rock, Paper & Scissors\n",
    "\n",
    "Let's play the famous game against our computer. You can check the rules [here](https://en.wikipedia.org/wiki/Rock%E2%80%93paper%E2%80%93scissors). \n",
    "\n",
    "## Task\n",
    "Create a program that imitates the playability of the well known game of rock, paper, scissors. Follow the guidelines provided.\n",
    "\n",
    "## Tools\n",
    "1. Loop: **for/while**\n",
    "2. Functions: **input(), print()...**\n",
    "3. Conditional statements: **if, elif, else**\n",
    "4. Definition of functions. Modular programming\n",
    "5. Import modules\n",
    "\n",
    "**To solve this challenge, the use of functions is recommended.**\n",
    "\n",
    "#### 1. Import the choice function of the random module."
   ]
  },
  {
   "cell_type": "code",
   "execution_count": 1,
   "metadata": {},
   "outputs": [],
   "source": [
    "import random"
   ]
  },
  {
   "cell_type": "markdown",
   "metadata": {},
   "source": [
    "#### 2. Create a list that includes the 3 possible gesture options of the game: 'rock', 'paper' or 'scissors'. Store the list in a variable called `gestures`."
   ]
  },
  {
   "cell_type": "code",
   "execution_count": null,
   "metadata": {},
   "outputs": [],
   "source": [
    "gestures = {1: \"rock\", 2: \"paper\", 3: \"scissors\"}"
   ]
  },
  {
   "cell_type": "markdown",
   "metadata": {},
   "source": [
    "#### 3. Create a variable called `n_rounds` to store the maximum number of rounds to play in a game. \n",
    "Remember that the number of rounds must be odd: 1, 3, 5, ..."
   ]
  },
  {
   "cell_type": "code",
   "execution_count": 17,
   "metadata": {},
   "outputs": [
    {
     "name": "stdout",
     "output_type": "stream",
     "text": [
      "How many rounds do you want to play?4\n",
      "Please select an odd number\n",
      "How many rounds do you want to play?5\n",
      "5\n"
     ]
    }
   ],
   "source": [
    "n_rounds = int(input(\"How many rounds do you want to play?\"))\n",
    "if n_rounds % 2 == 0:\n",
    "    print(\"Please select an odd number\")\n",
    "    n_rounds = int(input(\"How many rounds do you want to play?\"))\n",
    "    \n",
    "print(n_rounds)"
   ]
  },
  {
   "cell_type": "markdown",
   "metadata": {},
   "source": [
    "#### 4. Create a variable called `rounds_to_win` to store the number of rounds that a player must win to win the game.\n",
    "**Hint**: the value stored in `rounds_to_win` depends on the value of `n_rounds`. "
   ]
  },
  {
   "cell_type": "code",
   "execution_count": 20,
   "metadata": {},
   "outputs": [
    {
     "data": {
      "text/plain": [
       "False"
      ]
     },
     "execution_count": 20,
     "metadata": {},
     "output_type": "execute_result"
    }
   ],
   "source": [
    "rounds_to_win = 0\n",
    "rounds_to_win < n_rounds"
   ]
  },
  {
   "cell_type": "markdown",
   "metadata": {},
   "source": [
    "#### 5. Create two variables to store the number of rounds that the computer and the player have won. Call these variables `cpu_score` and `player_score`."
   ]
  },
  {
   "cell_type": "code",
   "execution_count": 24,
   "metadata": {},
   "outputs": [
    {
     "ename": "NameError",
     "evalue": "name 'user_action' is not defined",
     "output_type": "error",
     "traceback": [
      "\u001b[1;31m---------------------------------------------------------------------------\u001b[0m",
      "\u001b[1;31mNameError\u001b[0m                                 Traceback (most recent call last)",
      "\u001b[1;32m~\\AppData\\Local\\Temp/ipykernel_14724/656836055.py\u001b[0m in \u001b[0;36m<module>\u001b[1;34m\u001b[0m\n\u001b[0;32m      2\u001b[0m \u001b[0mplayer_score\u001b[0m \u001b[1;33m=\u001b[0m \u001b[1;36m0\u001b[0m\u001b[1;33m\u001b[0m\u001b[1;33m\u001b[0m\u001b[0m\n\u001b[0;32m      3\u001b[0m \u001b[1;33m\u001b[0m\u001b[0m\n\u001b[1;32m----> 4\u001b[1;33m \u001b[1;32mif\u001b[0m \u001b[0muser_action\u001b[0m \u001b[1;33m==\u001b[0m \u001b[0mcpu_action\u001b[0m\u001b[1;33m:\u001b[0m\u001b[1;33m\u001b[0m\u001b[1;33m\u001b[0m\u001b[0m\n\u001b[0m\u001b[0;32m      5\u001b[0m     \u001b[0mcpu_score\u001b[0m \u001b[1;33m=\u001b[0m \u001b[1;36m0\u001b[0m\u001b[1;33m\u001b[0m\u001b[1;33m\u001b[0m\u001b[0m\n\u001b[0;32m      6\u001b[0m     \u001b[0mplayer_score\u001b[0m \u001b[1;33m=\u001b[0m \u001b[1;36m0\u001b[0m\u001b[1;33m\u001b[0m\u001b[1;33m\u001b[0m\u001b[0m\n",
      "\u001b[1;31mNameError\u001b[0m: name 'user_action' is not defined"
     ]
    }
   ],
   "source": [
    "cpu_score = 0\n",
    "player_score = 0\n",
    "\n",
    "for i in n_rounds:\n",
    "    if player_action == cpu_action:\n",
    "        cpu_score = 0\n",
    "        player_score = 0\n",
    "    elif player_action == \"rock\":\n",
    "        if cpu_action == \"scissors\":\n",
    "            player_score = 1\n",
    "        else:\n",
    "            cpu_score = 1\n",
    "    elif player_action == \"paper\":\n",
    "        if cpu_action == \"rock\":\n",
    "            player_score = 1\n",
    "        else:\n",
    "            cpu_score = 1\n",
    "    elif player_action == \"scissors\":\n",
    "        if cpu_action == \"paper\":\n",
    "            player_score = 1\n",
    "        else:\n",
    "            cpu_score = 1\n",
    "\n",
    "print(\"The player won\", player_score, \"times and the cpu won\", cpu_score, \"times\")"
   ]
  },
  {
   "cell_type": "markdown",
   "metadata": {},
   "source": [
    "#### 6. Define a function that randomly returns one of the 3 gesture options.\n",
    "You will use this function to simulate the gesture choice of the computer. "
   ]
  },
  {
   "cell_type": "code",
   "execution_count": 28,
   "metadata": {},
   "outputs": [
    {
     "name": "stdout",
     "output_type": "stream",
     "text": [
      "Please select one of the options: rock, paper, scissorsrock\n",
      "You choose rock and the computer choose paper\n"
     ]
    }
   ],
   "source": [
    "import random\n",
    "gestures = {1: \"rock\", 2: \"paper\", 3: \"scissors\"}\n",
    "\n",
    "user_action = input(\"Please select one of the options: rock, paper, scissors\")\n",
    "gestures = {1: \"rock\", 2: \"paper\", 3: \"scissors\"}\n",
    "computer_action = random.choice(gestures)\n",
    "print(\"You choose\", user_action, \"and the computer choose\", computer_action)"
   ]
  },
  {
   "cell_type": "markdown",
   "metadata": {},
   "source": [
    "#### 7. Define a function that asks the player which is the gesture he or she wants to show: 'rock', 'paper' or 'scissors'.\n",
    "The player should only be allowed to choose one of the 3 gesture options. If the player's choice is not rock, paper or scissors, keep asking until it is."
   ]
  },
  {
   "cell_type": "code",
   "execution_count": 63,
   "metadata": {},
   "outputs": [
    {
     "name": "stdout",
     "output_type": "stream",
     "text": [
      "Please select one of the options: rock, paper, scissorsgjfjg\n",
      "Please select one of the options: rock, paper, scissorsfjgjg\n",
      "Please select one of the options: rock, paper, scissorsfkfkf\n",
      "Please select one of the options: rock, paper, scissorsrock\n"
     ]
    }
   ],
   "source": [
    "user_action = input(\"Please select one of the options: rock, paper, scissors\")\n",
    "\n",
    "if user_action == \"rock\" or user_action == \"paper\" or user_action == \"scissors\":\n",
    "    print(user_action)\n",
    "else:\n",
    "    while user_action != \"rock\" or user_action != \"paper\" or user_action != \"scissors\":\n",
    "        user_action = input(\"Please select one of the options: rock, paper, scissors\")\n",
    "        if user_action == \"rock\" or user_action == \"paper\" or user_action == \"scissors\":\n",
    "            break"
   ]
  },
  {
   "cell_type": "markdown",
   "metadata": {},
   "source": [
    "#### 8. Define a function that checks who won a round. \n",
    "The function should return 0 if there is a tie, 1 if the computer wins and 2 if the player wins."
   ]
  },
  {
   "cell_type": "code",
   "execution_count": null,
   "metadata": {},
   "outputs": [],
   "source": [
    "for i in n_rounds:\n",
    "    if player_action == cpu_action:\n",
    "        print(0)\n",
    "    elif player_action == \"rock\":\n",
    "        if cpu_action == \"scissors\":\n",
    "            print(2)\n",
    "        else:\n",
    "            print(1)\n",
    "    elif player_action == \"paper\":\n",
    "        if cpu_action == \"rock\":\n",
    "            print(2)\n",
    "        else:\n",
    "            print(1)\n",
    "    elif player_action == \"scissors\":\n",
    "        if cpu_action == \"paper\":\n",
    "            print(2)\n",
    "        else:\n",
    "            print(1)"
   ]
  },
  {
   "cell_type": "markdown",
   "metadata": {},
   "source": [
    "#### 9. Define a function that prints the choice of the computer, the choice of the player and a message that announces who won the current round. \n",
    "You should also use this function to update the variables that count the number of rounds that the computer and the player have won. The score of the winner increases by one point. If there is a tie, the score does not increase."
   ]
  },
  {
   "cell_type": "code",
   "execution_count": null,
   "metadata": {},
   "outputs": [],
   "source": [
    "player_score = 0\n",
    "cpu_score = 0\n",
    "\n",
    "for i in n_rounds:\n",
    "    if player_action == cpu_action:\n",
    "        player_score = player_score\n",
    "        cpu_score = cpu_score\n",
    "    elif player_action == \"rock\":\n",
    "        if cpu_action == \"scissors\":\n",
    "            player_score = player_score + 1\n",
    "            print(\"The player won this round\")\n",
    "        else:\n",
    "            cpu_score = cpu_score + 1\n",
    "            print(\"The computer won this round\")\n",
    "    elif player_action == \"paper\":\n",
    "        if cpu_action == \"rock\":\n",
    "            player_score = player_score + 1\n",
    "            print(\"The player won this round\")\n",
    "        else:\n",
    "            cpu_score = cpu_score + 1\n",
    "            print(\"The computer won this round\")\n",
    "    elif player_action == \"scissors\":\n",
    "        if cpu_action == \"paper\":\n",
    "            player_score = player_score + 1\n",
    "            print(\"The player won this round\")\n",
    "        else:\n",
    "            cpu_score = cpu_score + 1\n",
    "            print(\"The computer won this round\")"
   ]
  },
  {
   "cell_type": "markdown",
   "metadata": {},
   "source": [
    "#### 10. Now it's time to code the execution of the game using the functions and variables you defined above. \n",
    "\n",
    "First, create a loop structure that repeats while no player reaches the minimum score necessary to win and the number of rounds is less than the maximum number of rounds to play in a game.  \n",
    "\n",
    "Inside the loop, use the functions and variables above to create the execution of a round: ask for the player's choice, generate the random choice of the computer, show the round results, update the scores, etc. "
   ]
  },
  {
   "cell_type": "code",
   "execution_count": null,
   "metadata": {},
   "outputs": [],
   "source": [
    "import random\n",
    "gestures = {1: \"rock\", 2: \"paper\", 3: \"scissors\"}\n",
    "\n",
    "user_action = input(\"Please select one of the options: rock, paper, scissors\")\n",
    "\n",
    "if user_action == \"rock\" or user_action == \"paper\" or user_action == \"scissors\":\n",
    "    print(user_action)\n",
    "else:\n",
    "    while user_action != \"rock\" or user_action != \"paper\" or user_action != \"scissors\":\n",
    "        user_action = input(\"Please select one of the options: rock, paper, scissors\")\n",
    "        if user_action == \"rock\" or user_action == \"paper\" or user_action == \"scissors\":\n",
    "            break\n",
    "            \n",
    "gestures = {1: \"rock\", 2: \"paper\", 3: \"scissors\"}\n",
    "computer_action = random.choice(gestures)\n",
    "print(\"You choose\", user_action, \"and the computer choose\", computer_action)\n",
    "\n",
    "player_score = 0\n",
    "cpu_score = 0\n",
    "\n",
    "for i in n_rounds and (player_score < 3 or cpu_score < 3):\n",
    "    if player_action == cpu_action:\n",
    "        player_score = player_score\n",
    "        cpu_score = cpu_score\n",
    "    elif player_action == \"rock\":\n",
    "        if cpu_action == \"scissors\":\n",
    "            player_score = player_score + 1\n",
    "            print(\"The player won this round\")\n",
    "        else:\n",
    "            cpu_score = cpu_score + 1\n",
    "            print(\"The computer won this round\")\n",
    "    elif player_action == \"paper\":\n",
    "        if cpu_action == \"rock\":\n",
    "            player_score = player_score + 1\n",
    "            print(\"The player won this round\")\n",
    "        else:\n",
    "            cpu_score = cpu_score + 1\n",
    "            print(\"The computer won this round\")\n",
    "    elif player_action == \"scissors\":\n",
    "        if cpu_action == \"paper\":\n",
    "            player_score = player_score + 1\n",
    "            print(\"The player won this round\")\n",
    "        else:\n",
    "            cpu_score = cpu_score + 1\n",
    "            print(\"The computer won this round\")\n"
   ]
  },
  {
   "cell_type": "markdown",
   "metadata": {},
   "source": [
    "#### 11. Print the winner of the game based on who won more rounds.\n",
    "Remember that the game might be tied. "
   ]
  },
  {
   "cell_type": "code",
   "execution_count": null,
   "metadata": {},
   "outputs": [],
   "source": [
    "if player_score > cpu_score:\n",
    "    print(\"The player won this game.\")\n",
    "    elif player_score < cpu_score:\n",
    "        print(\"The cpu won this game.\")\n",
    "    else:\n",
    "        print(\"It's a tie.\")"
   ]
  },
  {
   "cell_type": "markdown",
   "metadata": {},
   "source": [
    "# Bonus: Rock, Paper, Scissors, Lizard & Spock\n",
    "![](images/rpsls.jpg)\n",
    "\n",
    "In this challenge, you need to improve the previous game by adding two new options. To know more about the rules of the improved version of rock, paper, scissors, check this [link](http://www.samkass.com/theories/RPSSL.html). \n",
    "\n",
    "In addition, you will also need to improve how the game interacts with the player: the number of rounds to play, which must be an odd number, will be requested to the user until a valid number is entered. Define a new function to make that request.\n",
    "\n",
    "**Hint**: Try to reuse the code that you already coded in the previous challenge. If your code is efficient, this bonus will only consist of simple modifications to the original game."
   ]
  },
  {
   "cell_type": "code",
   "execution_count": null,
   "metadata": {},
   "outputs": [],
   "source": []
  }
 ],
 "metadata": {
  "kernelspec": {
   "display_name": "Python 3 (ipykernel)",
   "language": "python",
   "name": "python3"
  },
  "language_info": {
   "codemirror_mode": {
    "name": "ipython",
    "version": 3
   },
   "file_extension": ".py",
   "mimetype": "text/x-python",
   "name": "python",
   "nbconvert_exporter": "python",
   "pygments_lexer": "ipython3",
   "version": "3.9.6"
  }
 },
 "nbformat": 4,
 "nbformat_minor": 2
}
